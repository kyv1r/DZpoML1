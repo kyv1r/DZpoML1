{
  "nbformat": 4,
  "nbformat_minor": 0,
  "metadata": {
    "colab": {
      "provenance": [],
      "include_colab_link": true
    },
    "kernelspec": {
      "name": "python3",
      "display_name": "Python 3"
    },
    "language_info": {
      "name": "python"
    }
  },
  "cells": [
    {
      "cell_type": "markdown",
      "metadata": {
        "id": "view-in-github",
        "colab_type": "text"
      },
      "source": [
        "<a href=\"https://colab.research.google.com/github/kyv1r/DZpoML1/blob/main/lab2/%D0%97%D0%B0%D0%B4%D0%B0%D0%BD%D0%B8%D0%B5_2.ipynb\" target=\"_parent\"><img src=\"https://colab.research.google.com/assets/colab-badge.svg\" alt=\"Open In Colab\"/></a>"
      ]
    },
    {
      "cell_type": "markdown",
      "source": [
        "#Задание по практике 2"
      ],
      "metadata": {
        "id": "_dGfjiUjUNab"
      }
    },
    {
      "cell_type": "code",
      "source": [
        "!pip install pandas\n",
        "!pip install seaborn"
      ],
      "metadata": {
        "id": "wXXP-hXKrxPW",
        "colab": {
          "base_uri": "https://localhost:8080/"
        },
        "outputId": "84fc2956-83f5-4e1c-ae61-a74ac098f03c"
      },
      "execution_count": 6,
      "outputs": [
        {
          "output_type": "stream",
          "name": "stdout",
          "text": [
            "Requirement already satisfied: pandas in /usr/local/lib/python3.10/dist-packages (1.5.3)\n",
            "Requirement already satisfied: python-dateutil>=2.8.1 in /usr/local/lib/python3.10/dist-packages (from pandas) (2.8.2)\n",
            "Requirement already satisfied: pytz>=2020.1 in /usr/local/lib/python3.10/dist-packages (from pandas) (2023.3.post1)\n",
            "Requirement already satisfied: numpy>=1.21.0 in /usr/local/lib/python3.10/dist-packages (from pandas) (1.23.5)\n",
            "Requirement already satisfied: six>=1.5 in /usr/local/lib/python3.10/dist-packages (from python-dateutil>=2.8.1->pandas) (1.16.0)\n",
            "Requirement already satisfied: seaborn in /usr/local/lib/python3.10/dist-packages (0.12.2)\n",
            "Requirement already satisfied: numpy!=1.24.0,>=1.17 in /usr/local/lib/python3.10/dist-packages (from seaborn) (1.23.5)\n",
            "Requirement already satisfied: pandas>=0.25 in /usr/local/lib/python3.10/dist-packages (from seaborn) (1.5.3)\n",
            "Requirement already satisfied: matplotlib!=3.6.1,>=3.1 in /usr/local/lib/python3.10/dist-packages (from seaborn) (3.7.1)\n",
            "Requirement already satisfied: contourpy>=1.0.1 in /usr/local/lib/python3.10/dist-packages (from matplotlib!=3.6.1,>=3.1->seaborn) (1.1.1)\n",
            "Requirement already satisfied: cycler>=0.10 in /usr/local/lib/python3.10/dist-packages (from matplotlib!=3.6.1,>=3.1->seaborn) (0.12.0)\n",
            "Requirement already satisfied: fonttools>=4.22.0 in /usr/local/lib/python3.10/dist-packages (from matplotlib!=3.6.1,>=3.1->seaborn) (4.43.0)\n",
            "Requirement already satisfied: kiwisolver>=1.0.1 in /usr/local/lib/python3.10/dist-packages (from matplotlib!=3.6.1,>=3.1->seaborn) (1.4.5)\n",
            "Requirement already satisfied: packaging>=20.0 in /usr/local/lib/python3.10/dist-packages (from matplotlib!=3.6.1,>=3.1->seaborn) (23.2)\n",
            "Requirement already satisfied: pillow>=6.2.0 in /usr/local/lib/python3.10/dist-packages (from matplotlib!=3.6.1,>=3.1->seaborn) (9.4.0)\n",
            "Requirement already satisfied: pyparsing>=2.3.1 in /usr/local/lib/python3.10/dist-packages (from matplotlib!=3.6.1,>=3.1->seaborn) (3.1.1)\n",
            "Requirement already satisfied: python-dateutil>=2.7 in /usr/local/lib/python3.10/dist-packages (from matplotlib!=3.6.1,>=3.1->seaborn) (2.8.2)\n",
            "Requirement already satisfied: pytz>=2020.1 in /usr/local/lib/python3.10/dist-packages (from pandas>=0.25->seaborn) (2023.3.post1)\n",
            "Requirement already satisfied: six>=1.5 in /usr/local/lib/python3.10/dist-packages (from python-dateutil>=2.7->matplotlib!=3.6.1,>=3.1->seaborn) (1.16.0)\n"
          ]
        }
      ]
    },
    {
      "cell_type": "code",
      "execution_count": 7,
      "metadata": {
        "id": "7u0VPzz-UKNu"
      },
      "outputs": [],
      "source": [
        "import pandas as pd\n",
        "import seaborn as sns\n",
        "import matplotlib.pyplot as plt"
      ]
    },
    {
      "cell_type": "markdown",
      "source": [
        "##Введение в описательную статистику"
      ],
      "metadata": {
        "id": "yKPA-E-VVSS-"
      }
    },
    {
      "cell_type": "markdown",
      "source": [
        "1. Выберите категориальную целевую переменную (**Y**)\n",
        "\n",
        "2. Выберите переменную для анализа относительно категории (**X**)\n",
        "\n",
        "3. Выведитие обобщенную статистическую информацию переменной (**X**)\n",
        "\n",
        "2. Вычислите среднее, медиану, моду, минимум, максимум, стандартное отклонение относительно целевой пременной из файла Classification datasets в соответствии с вашим вариантом\n",
        "\n",
        "3. Сделайте вывод относительно полученных результатов\n",
        "\n",
        "p.s если у вас нет категориальных признаков - преобразуйте любой числовой в категориальный (https://pandas.pydata.org/docs/reference/api/pandas.cut.html). Важно **не** использовать преобразованный Y вместе с этим же X (то есть, если вы преобразовали возраст в категорию, то вы не моежет использовать возраст в качестве X и возраст категорию в качестве Y)"
      ],
      "metadata": {
        "id": "Rrr4WPcGUwOx"
      }
    },
    {
      "cell_type": "code",
      "source": [
        "df = pd.read_csv(\"/content/ca_offenses_by_agency.csv\")\n",
        "df"
      ],
      "metadata": {
        "id": "wZiCpTwgUuYw",
        "colab": {
          "base_uri": "https://localhost:8080/",
          "height": 528
        },
        "outputId": "761ba48a-1817-43f1-c2fa-8079ea19918d"
      },
      "execution_count": 10,
      "outputs": [
        {
          "output_type": "execute_result",
          "data": {
            "text/plain": [
              "    State/Tribal/Other                              Agency Unit/Office  \\\n",
              "0       State Agencies          Atascadero State Hospital4         NaN   \n",
              "1       State Agencies              California State Fair4         NaN   \n",
              "2       State Agencies             Coalinga State Hospital         NaN   \n",
              "3       State Agencies  Department of Parks and Recreation     Angeles   \n",
              "4       State Agencies  Department of Parks and Recreation    Bay Area   \n",
              "..                 ...                                 ...         ...   \n",
              "228                NaN                                 NaN         NaN   \n",
              "229                NaN                                 NaN         NaN   \n",
              "230                NaN                                 NaN         NaN   \n",
              "231                NaN                                 NaN         NaN   \n",
              "232                NaN                                 NaN         NaN   \n",
              "\n",
              "     Violent crime  Murder and nonnegligent manslaughter  \\\n",
              "0            321.0                                   0.0   \n",
              "1             12.0                                   0.0   \n",
              "2            149.0                                   0.0   \n",
              "3              2.0                                   0.0   \n",
              "4              0.0                                   0.0   \n",
              "..             ...                                   ...   \n",
              "228            NaN                                   NaN   \n",
              "229            NaN                                   NaN   \n",
              "230            NaN                                   NaN   \n",
              "231            NaN                                   NaN   \n",
              "232            NaN                                   NaN   \n",
              "\n",
              "     Rape (revised definition)  Rape (legacy definition)  Robbery  \\\n",
              "0                          0.0                       NaN      0.0   \n",
              "1                          0.0                       NaN      0.0   \n",
              "2                          0.0                       NaN      0.0   \n",
              "3                          0.0                       NaN      1.0   \n",
              "4                          0.0                       NaN      0.0   \n",
              "..                         ...                       ...      ...   \n",
              "228                        NaN                       NaN      NaN   \n",
              "229                        NaN                       NaN      NaN   \n",
              "230                        NaN                       NaN      NaN   \n",
              "231                        NaN                       NaN      NaN   \n",
              "232                        NaN                       NaN      NaN   \n",
              "\n",
              "     Aggravated assault Property crime  Burglary Larceny-theft  \\\n",
              "0                 321.0              4       0.0             2   \n",
              "1                  12.0             79      21.0            56   \n",
              "2                 149.0              3       1.0             2   \n",
              "3                   1.0             26       8.0            18   \n",
              "4                   0.0              1       0.0             0   \n",
              "..                  ...            ...       ...           ...   \n",
              "228                 NaN            NaN       NaN           NaN   \n",
              "229                 NaN            NaN       NaN           NaN   \n",
              "230                 NaN            NaN       NaN           NaN   \n",
              "231                 NaN            NaN       NaN           NaN   \n",
              "232                 NaN            NaN       NaN           NaN   \n",
              "\n",
              "    Motor vehicle theft  Arson  \n",
              "0                     2    0.0  \n",
              "1                     2    1.0  \n",
              "2                     0    0.0  \n",
              "3                     0    0.0  \n",
              "4                     1    0.0  \n",
              "..                  ...    ...  \n",
              "228                 NaN    NaN  \n",
              "229                 NaN    NaN  \n",
              "230                 NaN    NaN  \n",
              "231                 NaN    NaN  \n",
              "232                 NaN    NaN  \n",
              "\n",
              "[233 rows x 14 columns]"
            ],
            "text/html": [
              "\n",
              "  <div id=\"df-239b682c-2ced-4053-9bb5-85809080273e\" class=\"colab-df-container\">\n",
              "    <div>\n",
              "<style scoped>\n",
              "    .dataframe tbody tr th:only-of-type {\n",
              "        vertical-align: middle;\n",
              "    }\n",
              "\n",
              "    .dataframe tbody tr th {\n",
              "        vertical-align: top;\n",
              "    }\n",
              "\n",
              "    .dataframe thead th {\n",
              "        text-align: right;\n",
              "    }\n",
              "</style>\n",
              "<table border=\"1\" class=\"dataframe\">\n",
              "  <thead>\n",
              "    <tr style=\"text-align: right;\">\n",
              "      <th></th>\n",
              "      <th>State/Tribal/Other</th>\n",
              "      <th>Agency</th>\n",
              "      <th>Unit/Office</th>\n",
              "      <th>Violent crime</th>\n",
              "      <th>Murder and nonnegligent manslaughter</th>\n",
              "      <th>Rape (revised definition)</th>\n",
              "      <th>Rape (legacy definition)</th>\n",
              "      <th>Robbery</th>\n",
              "      <th>Aggravated assault</th>\n",
              "      <th>Property crime</th>\n",
              "      <th>Burglary</th>\n",
              "      <th>Larceny-theft</th>\n",
              "      <th>Motor vehicle theft</th>\n",
              "      <th>Arson</th>\n",
              "    </tr>\n",
              "  </thead>\n",
              "  <tbody>\n",
              "    <tr>\n",
              "      <th>0</th>\n",
              "      <td>State Agencies</td>\n",
              "      <td>Atascadero State Hospital4</td>\n",
              "      <td>NaN</td>\n",
              "      <td>321.0</td>\n",
              "      <td>0.0</td>\n",
              "      <td>0.0</td>\n",
              "      <td>NaN</td>\n",
              "      <td>0.0</td>\n",
              "      <td>321.0</td>\n",
              "      <td>4</td>\n",
              "      <td>0.0</td>\n",
              "      <td>2</td>\n",
              "      <td>2</td>\n",
              "      <td>0.0</td>\n",
              "    </tr>\n",
              "    <tr>\n",
              "      <th>1</th>\n",
              "      <td>State Agencies</td>\n",
              "      <td>California State Fair4</td>\n",
              "      <td>NaN</td>\n",
              "      <td>12.0</td>\n",
              "      <td>0.0</td>\n",
              "      <td>0.0</td>\n",
              "      <td>NaN</td>\n",
              "      <td>0.0</td>\n",
              "      <td>12.0</td>\n",
              "      <td>79</td>\n",
              "      <td>21.0</td>\n",
              "      <td>56</td>\n",
              "      <td>2</td>\n",
              "      <td>1.0</td>\n",
              "    </tr>\n",
              "    <tr>\n",
              "      <th>2</th>\n",
              "      <td>State Agencies</td>\n",
              "      <td>Coalinga State Hospital</td>\n",
              "      <td>NaN</td>\n",
              "      <td>149.0</td>\n",
              "      <td>0.0</td>\n",
              "      <td>0.0</td>\n",
              "      <td>NaN</td>\n",
              "      <td>0.0</td>\n",
              "      <td>149.0</td>\n",
              "      <td>3</td>\n",
              "      <td>1.0</td>\n",
              "      <td>2</td>\n",
              "      <td>0</td>\n",
              "      <td>0.0</td>\n",
              "    </tr>\n",
              "    <tr>\n",
              "      <th>3</th>\n",
              "      <td>State Agencies</td>\n",
              "      <td>Department of Parks and Recreation</td>\n",
              "      <td>Angeles</td>\n",
              "      <td>2.0</td>\n",
              "      <td>0.0</td>\n",
              "      <td>0.0</td>\n",
              "      <td>NaN</td>\n",
              "      <td>1.0</td>\n",
              "      <td>1.0</td>\n",
              "      <td>26</td>\n",
              "      <td>8.0</td>\n",
              "      <td>18</td>\n",
              "      <td>0</td>\n",
              "      <td>0.0</td>\n",
              "    </tr>\n",
              "    <tr>\n",
              "      <th>4</th>\n",
              "      <td>State Agencies</td>\n",
              "      <td>Department of Parks and Recreation</td>\n",
              "      <td>Bay Area</td>\n",
              "      <td>0.0</td>\n",
              "      <td>0.0</td>\n",
              "      <td>0.0</td>\n",
              "      <td>NaN</td>\n",
              "      <td>0.0</td>\n",
              "      <td>0.0</td>\n",
              "      <td>1</td>\n",
              "      <td>0.0</td>\n",
              "      <td>0</td>\n",
              "      <td>1</td>\n",
              "      <td>0.0</td>\n",
              "    </tr>\n",
              "    <tr>\n",
              "      <th>...</th>\n",
              "      <td>...</td>\n",
              "      <td>...</td>\n",
              "      <td>...</td>\n",
              "      <td>...</td>\n",
              "      <td>...</td>\n",
              "      <td>...</td>\n",
              "      <td>...</td>\n",
              "      <td>...</td>\n",
              "      <td>...</td>\n",
              "      <td>...</td>\n",
              "      <td>...</td>\n",
              "      <td>...</td>\n",
              "      <td>...</td>\n",
              "      <td>...</td>\n",
              "    </tr>\n",
              "    <tr>\n",
              "      <th>228</th>\n",
              "      <td>NaN</td>\n",
              "      <td>NaN</td>\n",
              "      <td>NaN</td>\n",
              "      <td>NaN</td>\n",
              "      <td>NaN</td>\n",
              "      <td>NaN</td>\n",
              "      <td>NaN</td>\n",
              "      <td>NaN</td>\n",
              "      <td>NaN</td>\n",
              "      <td>NaN</td>\n",
              "      <td>NaN</td>\n",
              "      <td>NaN</td>\n",
              "      <td>NaN</td>\n",
              "      <td>NaN</td>\n",
              "    </tr>\n",
              "    <tr>\n",
              "      <th>229</th>\n",
              "      <td>NaN</td>\n",
              "      <td>NaN</td>\n",
              "      <td>NaN</td>\n",
              "      <td>NaN</td>\n",
              "      <td>NaN</td>\n",
              "      <td>NaN</td>\n",
              "      <td>NaN</td>\n",
              "      <td>NaN</td>\n",
              "      <td>NaN</td>\n",
              "      <td>NaN</td>\n",
              "      <td>NaN</td>\n",
              "      <td>NaN</td>\n",
              "      <td>NaN</td>\n",
              "      <td>NaN</td>\n",
              "    </tr>\n",
              "    <tr>\n",
              "      <th>230</th>\n",
              "      <td>NaN</td>\n",
              "      <td>NaN</td>\n",
              "      <td>NaN</td>\n",
              "      <td>NaN</td>\n",
              "      <td>NaN</td>\n",
              "      <td>NaN</td>\n",
              "      <td>NaN</td>\n",
              "      <td>NaN</td>\n",
              "      <td>NaN</td>\n",
              "      <td>NaN</td>\n",
              "      <td>NaN</td>\n",
              "      <td>NaN</td>\n",
              "      <td>NaN</td>\n",
              "      <td>NaN</td>\n",
              "    </tr>\n",
              "    <tr>\n",
              "      <th>231</th>\n",
              "      <td>NaN</td>\n",
              "      <td>NaN</td>\n",
              "      <td>NaN</td>\n",
              "      <td>NaN</td>\n",
              "      <td>NaN</td>\n",
              "      <td>NaN</td>\n",
              "      <td>NaN</td>\n",
              "      <td>NaN</td>\n",
              "      <td>NaN</td>\n",
              "      <td>NaN</td>\n",
              "      <td>NaN</td>\n",
              "      <td>NaN</td>\n",
              "      <td>NaN</td>\n",
              "      <td>NaN</td>\n",
              "    </tr>\n",
              "    <tr>\n",
              "      <th>232</th>\n",
              "      <td>NaN</td>\n",
              "      <td>NaN</td>\n",
              "      <td>NaN</td>\n",
              "      <td>NaN</td>\n",
              "      <td>NaN</td>\n",
              "      <td>NaN</td>\n",
              "      <td>NaN</td>\n",
              "      <td>NaN</td>\n",
              "      <td>NaN</td>\n",
              "      <td>NaN</td>\n",
              "      <td>NaN</td>\n",
              "      <td>NaN</td>\n",
              "      <td>NaN</td>\n",
              "      <td>NaN</td>\n",
              "    </tr>\n",
              "  </tbody>\n",
              "</table>\n",
              "<p>233 rows × 14 columns</p>\n",
              "</div>\n",
              "    <div class=\"colab-df-buttons\">\n",
              "\n",
              "  <div class=\"colab-df-container\">\n",
              "    <button class=\"colab-df-convert\" onclick=\"convertToInteractive('df-239b682c-2ced-4053-9bb5-85809080273e')\"\n",
              "            title=\"Convert this dataframe to an interactive table.\"\n",
              "            style=\"display:none;\">\n",
              "\n",
              "  <svg xmlns=\"http://www.w3.org/2000/svg\" height=\"24px\" viewBox=\"0 -960 960 960\">\n",
              "    <path d=\"M120-120v-720h720v720H120Zm60-500h600v-160H180v160Zm220 220h160v-160H400v160Zm0 220h160v-160H400v160ZM180-400h160v-160H180v160Zm440 0h160v-160H620v160ZM180-180h160v-160H180v160Zm440 0h160v-160H620v160Z\"/>\n",
              "  </svg>\n",
              "    </button>\n",
              "\n",
              "  <style>\n",
              "    .colab-df-container {\n",
              "      display:flex;\n",
              "      gap: 12px;\n",
              "    }\n",
              "\n",
              "    .colab-df-convert {\n",
              "      background-color: #E8F0FE;\n",
              "      border: none;\n",
              "      border-radius: 50%;\n",
              "      cursor: pointer;\n",
              "      display: none;\n",
              "      fill: #1967D2;\n",
              "      height: 32px;\n",
              "      padding: 0 0 0 0;\n",
              "      width: 32px;\n",
              "    }\n",
              "\n",
              "    .colab-df-convert:hover {\n",
              "      background-color: #E2EBFA;\n",
              "      box-shadow: 0px 1px 2px rgba(60, 64, 67, 0.3), 0px 1px 3px 1px rgba(60, 64, 67, 0.15);\n",
              "      fill: #174EA6;\n",
              "    }\n",
              "\n",
              "    .colab-df-buttons div {\n",
              "      margin-bottom: 4px;\n",
              "    }\n",
              "\n",
              "    [theme=dark] .colab-df-convert {\n",
              "      background-color: #3B4455;\n",
              "      fill: #D2E3FC;\n",
              "    }\n",
              "\n",
              "    [theme=dark] .colab-df-convert:hover {\n",
              "      background-color: #434B5C;\n",
              "      box-shadow: 0px 1px 3px 1px rgba(0, 0, 0, 0.15);\n",
              "      filter: drop-shadow(0px 1px 2px rgba(0, 0, 0, 0.3));\n",
              "      fill: #FFFFFF;\n",
              "    }\n",
              "  </style>\n",
              "\n",
              "    <script>\n",
              "      const buttonEl =\n",
              "        document.querySelector('#df-239b682c-2ced-4053-9bb5-85809080273e button.colab-df-convert');\n",
              "      buttonEl.style.display =\n",
              "        google.colab.kernel.accessAllowed ? 'block' : 'none';\n",
              "\n",
              "      async function convertToInteractive(key) {\n",
              "        const element = document.querySelector('#df-239b682c-2ced-4053-9bb5-85809080273e');\n",
              "        const dataTable =\n",
              "          await google.colab.kernel.invokeFunction('convertToInteractive',\n",
              "                                                    [key], {});\n",
              "        if (!dataTable) return;\n",
              "\n",
              "        const docLinkHtml = 'Like what you see? Visit the ' +\n",
              "          '<a target=\"_blank\" href=https://colab.research.google.com/notebooks/data_table.ipynb>data table notebook</a>'\n",
              "          + ' to learn more about interactive tables.';\n",
              "        element.innerHTML = '';\n",
              "        dataTable['output_type'] = 'display_data';\n",
              "        await google.colab.output.renderOutput(dataTable, element);\n",
              "        const docLink = document.createElement('div');\n",
              "        docLink.innerHTML = docLinkHtml;\n",
              "        element.appendChild(docLink);\n",
              "      }\n",
              "    </script>\n",
              "  </div>\n",
              "\n",
              "\n",
              "<div id=\"df-99df4b87-f417-49ac-b300-e077e2e85621\">\n",
              "  <button class=\"colab-df-quickchart\" onclick=\"quickchart('df-99df4b87-f417-49ac-b300-e077e2e85621')\"\n",
              "            title=\"Suggest charts.\"\n",
              "            style=\"display:none;\">\n",
              "\n",
              "<svg xmlns=\"http://www.w3.org/2000/svg\" height=\"24px\"viewBox=\"0 0 24 24\"\n",
              "     width=\"24px\">\n",
              "    <g>\n",
              "        <path d=\"M19 3H5c-1.1 0-2 .9-2 2v14c0 1.1.9 2 2 2h14c1.1 0 2-.9 2-2V5c0-1.1-.9-2-2-2zM9 17H7v-7h2v7zm4 0h-2V7h2v10zm4 0h-2v-4h2v4z\"/>\n",
              "    </g>\n",
              "</svg>\n",
              "  </button>\n",
              "\n",
              "<style>\n",
              "  .colab-df-quickchart {\n",
              "      --bg-color: #E8F0FE;\n",
              "      --fill-color: #1967D2;\n",
              "      --hover-bg-color: #E2EBFA;\n",
              "      --hover-fill-color: #174EA6;\n",
              "      --disabled-fill-color: #AAA;\n",
              "      --disabled-bg-color: #DDD;\n",
              "  }\n",
              "\n",
              "  [theme=dark] .colab-df-quickchart {\n",
              "      --bg-color: #3B4455;\n",
              "      --fill-color: #D2E3FC;\n",
              "      --hover-bg-color: #434B5C;\n",
              "      --hover-fill-color: #FFFFFF;\n",
              "      --disabled-bg-color: #3B4455;\n",
              "      --disabled-fill-color: #666;\n",
              "  }\n",
              "\n",
              "  .colab-df-quickchart {\n",
              "    background-color: var(--bg-color);\n",
              "    border: none;\n",
              "    border-radius: 50%;\n",
              "    cursor: pointer;\n",
              "    display: none;\n",
              "    fill: var(--fill-color);\n",
              "    height: 32px;\n",
              "    padding: 0;\n",
              "    width: 32px;\n",
              "  }\n",
              "\n",
              "  .colab-df-quickchart:hover {\n",
              "    background-color: var(--hover-bg-color);\n",
              "    box-shadow: 0 1px 2px rgba(60, 64, 67, 0.3), 0 1px 3px 1px rgba(60, 64, 67, 0.15);\n",
              "    fill: var(--button-hover-fill-color);\n",
              "  }\n",
              "\n",
              "  .colab-df-quickchart-complete:disabled,\n",
              "  .colab-df-quickchart-complete:disabled:hover {\n",
              "    background-color: var(--disabled-bg-color);\n",
              "    fill: var(--disabled-fill-color);\n",
              "    box-shadow: none;\n",
              "  }\n",
              "\n",
              "  .colab-df-spinner {\n",
              "    border: 2px solid var(--fill-color);\n",
              "    border-color: transparent;\n",
              "    border-bottom-color: var(--fill-color);\n",
              "    animation:\n",
              "      spin 1s steps(1) infinite;\n",
              "  }\n",
              "\n",
              "  @keyframes spin {\n",
              "    0% {\n",
              "      border-color: transparent;\n",
              "      border-bottom-color: var(--fill-color);\n",
              "      border-left-color: var(--fill-color);\n",
              "    }\n",
              "    20% {\n",
              "      border-color: transparent;\n",
              "      border-left-color: var(--fill-color);\n",
              "      border-top-color: var(--fill-color);\n",
              "    }\n",
              "    30% {\n",
              "      border-color: transparent;\n",
              "      border-left-color: var(--fill-color);\n",
              "      border-top-color: var(--fill-color);\n",
              "      border-right-color: var(--fill-color);\n",
              "    }\n",
              "    40% {\n",
              "      border-color: transparent;\n",
              "      border-right-color: var(--fill-color);\n",
              "      border-top-color: var(--fill-color);\n",
              "    }\n",
              "    60% {\n",
              "      border-color: transparent;\n",
              "      border-right-color: var(--fill-color);\n",
              "    }\n",
              "    80% {\n",
              "      border-color: transparent;\n",
              "      border-right-color: var(--fill-color);\n",
              "      border-bottom-color: var(--fill-color);\n",
              "    }\n",
              "    90% {\n",
              "      border-color: transparent;\n",
              "      border-bottom-color: var(--fill-color);\n",
              "    }\n",
              "  }\n",
              "</style>\n",
              "\n",
              "  <script>\n",
              "    async function quickchart(key) {\n",
              "      const quickchartButtonEl =\n",
              "        document.querySelector('#' + key + ' button');\n",
              "      quickchartButtonEl.disabled = true;  // To prevent multiple clicks.\n",
              "      quickchartButtonEl.classList.add('colab-df-spinner');\n",
              "      try {\n",
              "        const charts = await google.colab.kernel.invokeFunction(\n",
              "            'suggestCharts', [key], {});\n",
              "      } catch (error) {\n",
              "        console.error('Error during call to suggestCharts:', error);\n",
              "      }\n",
              "      quickchartButtonEl.classList.remove('colab-df-spinner');\n",
              "      quickchartButtonEl.classList.add('colab-df-quickchart-complete');\n",
              "    }\n",
              "    (() => {\n",
              "      let quickchartButtonEl =\n",
              "        document.querySelector('#df-99df4b87-f417-49ac-b300-e077e2e85621 button');\n",
              "      quickchartButtonEl.style.display =\n",
              "        google.colab.kernel.accessAllowed ? 'block' : 'none';\n",
              "    })();\n",
              "  </script>\n",
              "</div>\n",
              "    </div>\n",
              "  </div>\n"
            ]
          },
          "metadata": {},
          "execution_count": 10
        }
      ]
    },
    {
      "cell_type": "code",
      "source": [
        "df.info()"
      ],
      "metadata": {
        "colab": {
          "base_uri": "https://localhost:8080/"
        },
        "id": "5HAoUOVkVZit",
        "outputId": "fb208ff1-2150-42f6-ed01-1fe803e1fef0"
      },
      "execution_count": 11,
      "outputs": [
        {
          "output_type": "stream",
          "name": "stdout",
          "text": [
            "<class 'pandas.core.frame.DataFrame'>\n",
            "RangeIndex: 233 entries, 0 to 232\n",
            "Data columns (total 14 columns):\n",
            " #   Column                                Non-Null Count  Dtype  \n",
            "---  ------                                --------------  -----  \n",
            " 0   State/Tribal/Other                    169 non-null    object \n",
            " 1   Agency                                169 non-null    object \n",
            " 2   Unit/Office                           143 non-null    object \n",
            " 3   Violent crime                         169 non-null    float64\n",
            " 4   Murder and nonnegligent manslaughter  169 non-null    float64\n",
            " 5   Rape (revised definition)             169 non-null    float64\n",
            " 6   Rape (legacy definition)              0 non-null      float64\n",
            " 7   Robbery                               169 non-null    float64\n",
            " 8   Aggravated assault                    169 non-null    float64\n",
            " 9   Property crime                        169 non-null    object \n",
            " 10  Burglary                              169 non-null    float64\n",
            " 11  Larceny-theft                         169 non-null    object \n",
            " 12  Motor vehicle theft                   169 non-null    object \n",
            " 13  Arson                                 167 non-null    float64\n",
            "dtypes: float64(8), object(6)\n",
            "memory usage: 25.6+ KB\n"
          ]
        }
      ]
    },
    {
      "cell_type": "code",
      "source": [
        "df[\"Murder and nonnegligent manslaughter\"] = df[\"Murder and nonnegligent manslaughter\"].astype(\"category\")\n",
        "df[\"Burglary\"] = df[\"Burglary\"].astype(\"float64\")\n",
        "df[\"Rape (revised definition)\"] = df[\"Rape (revised definition)\"].astype(\"float64\")\n",
        "df[\"Robbery\"] = df[\"Robbery\"].astype(\"float64\")\n",
        "#Вывести типы колонок тут\n",
        "print(df.dtypes)"
      ],
      "metadata": {
        "colab": {
          "base_uri": "https://localhost:8080/"
        },
        "id": "0NN5nNkoVtGw",
        "outputId": "dc1a042c-a191-40c4-d4eb-acc3c1280e7f"
      },
      "execution_count": 12,
      "outputs": [
        {
          "output_type": "stream",
          "name": "stdout",
          "text": [
            "State/Tribal/Other                        object\n",
            "Agency                                    object\n",
            "Unit/Office                               object\n",
            "Violent crime                            float64\n",
            "Murder and nonnegligent manslaughter    category\n",
            "Rape (revised definition)                float64\n",
            "Rape (legacy definition)                 float64\n",
            "Robbery                                  float64\n",
            "Aggravated assault                       float64\n",
            "Property crime                            object\n",
            "Burglary                                 float64\n",
            "Larceny-theft                             object\n",
            "Motor vehicle theft                       object\n",
            "Arson                                    float64\n",
            "dtype: object\n"
          ]
        }
      ]
    },
    {
      "cell_type": "code",
      "source": [
        "Y = df[\"Murder and nonnegligent manslaughter\"]\n",
        "X = df[\"Violent crime\"]"
      ],
      "metadata": {
        "id": "1dv4L1qUVPz1"
      },
      "execution_count": 13,
      "outputs": []
    },
    {
      "cell_type": "code",
      "source": [
        "describe = Y.describe()\n",
        "describe"
      ],
      "metadata": {
        "id": "u3OeTGcGp2sY",
        "colab": {
          "base_uri": "https://localhost:8080/"
        },
        "outputId": "6c9e4525-47a0-464e-d61c-5358342c3870"
      },
      "execution_count": 14,
      "outputs": [
        {
          "output_type": "execute_result",
          "data": {
            "text/plain": [
              "count     169.0\n",
              "unique      4.0\n",
              "top         0.0\n",
              "freq      165.0\n",
              "Name: Murder and nonnegligent manslaughter, dtype: float64"
            ]
          },
          "metadata": {},
          "execution_count": 14
        }
      ]
    },
    {
      "cell_type": "code",
      "source": [
        "mean = df.groupby([\"Murder and nonnegligent manslaughter\"])[\"Violent crime\"].mean()\n",
        "mean"
      ],
      "metadata": {
        "id": "ud5DMETOU8hS",
        "colab": {
          "base_uri": "https://localhost:8080/"
        },
        "outputId": "127f9f79-2ea3-4f7e-c7e2-ba5c24bfd8a1"
      },
      "execution_count": 15,
      "outputs": [
        {
          "output_type": "execute_result",
          "data": {
            "text/plain": [
              "Murder and nonnegligent manslaughter\n",
              "0.0     10.09697\n",
              "1.0    111.00000\n",
              "2.0      9.00000\n",
              "3.0    803.00000\n",
              "Name: Violent crime, dtype: float64"
            ]
          },
          "metadata": {},
          "execution_count": 15
        }
      ]
    },
    {
      "cell_type": "code",
      "source": [
        "median = df.groupby([\"Murder and nonnegligent manslaughter\"])[\"Violent crime\"].median()\n",
        "median"
      ],
      "metadata": {
        "id": "TVB8P3FDVwxM",
        "colab": {
          "base_uri": "https://localhost:8080/"
        },
        "outputId": "db9d4894-152b-468f-987c-e2abc9115baf"
      },
      "execution_count": 16,
      "outputs": [
        {
          "output_type": "execute_result",
          "data": {
            "text/plain": [
              "Murder and nonnegligent manslaughter\n",
              "0.0      0.0\n",
              "1.0    111.0\n",
              "2.0      9.0\n",
              "3.0    803.0\n",
              "Name: Violent crime, dtype: float64"
            ]
          },
          "metadata": {},
          "execution_count": 16
        }
      ]
    },
    {
      "cell_type": "code",
      "source": [
        "mode = df.groupby([\"Murder and nonnegligent manslaughter\"])[\"Violent crime\"].agg(pd.Series.mode)\n",
        "mode"
      ],
      "metadata": {
        "id": "0xHCgiXCVyhs",
        "colab": {
          "base_uri": "https://localhost:8080/"
        },
        "outputId": "33749be4-d09b-4ea2-c315-2bc4f4d3dfb8"
      },
      "execution_count": 17,
      "outputs": [
        {
          "output_type": "execute_result",
          "data": {
            "text/plain": [
              "Murder and nonnegligent manslaughter\n",
              "0.0              0.0\n",
              "1.0    [87.0, 135.0]\n",
              "2.0              9.0\n",
              "3.0            803.0\n",
              "Name: Violent crime, dtype: object"
            ]
          },
          "metadata": {},
          "execution_count": 17
        }
      ]
    },
    {
      "cell_type": "code",
      "source": [
        "min = df.groupby([\"Murder and nonnegligent manslaughter\"])[\"Violent crime\"].min()\n",
        "min"
      ],
      "metadata": {
        "id": "HprClRfXVzxW",
        "colab": {
          "base_uri": "https://localhost:8080/"
        },
        "outputId": "6d40b89b-63a3-46ab-cf86-deead9cf7f7d"
      },
      "execution_count": 18,
      "outputs": [
        {
          "output_type": "execute_result",
          "data": {
            "text/plain": [
              "Murder and nonnegligent manslaughter\n",
              "0.0      0.0\n",
              "1.0     87.0\n",
              "2.0      9.0\n",
              "3.0    803.0\n",
              "Name: Violent crime, dtype: float64"
            ]
          },
          "metadata": {},
          "execution_count": 18
        }
      ]
    },
    {
      "cell_type": "code",
      "source": [
        "max = df.groupby([\"Murder and nonnegligent manslaughter\"])[\"Violent crime\"].max()\n",
        "max"
      ],
      "metadata": {
        "id": "sA2gR7IAV1k3",
        "colab": {
          "base_uri": "https://localhost:8080/"
        },
        "outputId": "14f7361a-0e41-4c32-d22e-9e318aa69f05"
      },
      "execution_count": 19,
      "outputs": [
        {
          "output_type": "execute_result",
          "data": {
            "text/plain": [
              "Murder and nonnegligent manslaughter\n",
              "0.0    566.0\n",
              "1.0    135.0\n",
              "2.0      9.0\n",
              "3.0    803.0\n",
              "Name: Violent crime, dtype: float64"
            ]
          },
          "metadata": {},
          "execution_count": 19
        }
      ]
    },
    {
      "cell_type": "code",
      "source": [
        "std = df.groupby([\"Murder and nonnegligent manslaughter\"])[\"Violent crime\"].std()\n",
        "std"
      ],
      "metadata": {
        "id": "BWeXHW3Vovz4",
        "colab": {
          "base_uri": "https://localhost:8080/"
        },
        "outputId": "5a19b3c7-3c19-4243-c762-1e615325ec2e"
      },
      "execution_count": 20,
      "outputs": [
        {
          "output_type": "execute_result",
          "data": {
            "text/plain": [
              "Murder and nonnegligent manslaughter\n",
              "0.0    52.952835\n",
              "1.0    33.941125\n",
              "2.0          NaN\n",
              "3.0          NaN\n",
              "Name: Violent crime, dtype: float64"
            ]
          },
          "metadata": {},
          "execution_count": 20
        }
      ]
    },
    {
      "cell_type": "markdown",
      "source": [
        "Вычислите следующие квантили: 25%, 50% (медиана), 75% для числового признака вашего датасета. Затем найдите интерквартильный размах."
      ],
      "metadata": {
        "id": "dZEVd9QIVMyV"
      }
    },
    {
      "cell_type": "code",
      "source": [
        "q1 = df.groupby(['Murder and nonnegligent manslaughter'])['Violent crime'].quantile(0.25)\n",
        "q1"
      ],
      "metadata": {
        "id": "2UMcBq9dVbVE",
        "colab": {
          "base_uri": "https://localhost:8080/"
        },
        "outputId": "20480081-9d15-4178-d3c7-2bbfb5b7ad31"
      },
      "execution_count": 21,
      "outputs": [
        {
          "output_type": "execute_result",
          "data": {
            "text/plain": [
              "Murder and nonnegligent manslaughter\n",
              "0.0      0.0\n",
              "1.0     99.0\n",
              "2.0      9.0\n",
              "3.0    803.0\n",
              "Name: Violent crime, dtype: float64"
            ]
          },
          "metadata": {},
          "execution_count": 21
        }
      ]
    },
    {
      "cell_type": "code",
      "source": [
        "q2 = df.groupby(['Murder and nonnegligent manslaughter'])['Violent crime'].quantile(0.5)\n",
        "q1"
      ],
      "metadata": {
        "id": "8joJvKduWJsC",
        "colab": {
          "base_uri": "https://localhost:8080/"
        },
        "outputId": "2d75b160-2397-498e-a2b3-d62d7fdb5437"
      },
      "execution_count": 22,
      "outputs": [
        {
          "output_type": "execute_result",
          "data": {
            "text/plain": [
              "Murder and nonnegligent manslaughter\n",
              "0.0      0.0\n",
              "1.0     99.0\n",
              "2.0      9.0\n",
              "3.0    803.0\n",
              "Name: Violent crime, dtype: float64"
            ]
          },
          "metadata": {},
          "execution_count": 22
        }
      ]
    },
    {
      "cell_type": "code",
      "source": [
        "q3 = df.groupby(['Murder and nonnegligent manslaughter'])['Violent crime'].quantile(0.75)\n",
        "q1"
      ],
      "metadata": {
        "id": "pQTQqM3GWLOV",
        "colab": {
          "base_uri": "https://localhost:8080/"
        },
        "outputId": "4f911107-3560-4728-d319-f62f6e3c75e8"
      },
      "execution_count": 23,
      "outputs": [
        {
          "output_type": "execute_result",
          "data": {
            "text/plain": [
              "Murder and nonnegligent manslaughter\n",
              "0.0      0.0\n",
              "1.0     99.0\n",
              "2.0      9.0\n",
              "3.0    803.0\n",
              "Name: Violent crime, dtype: float64"
            ]
          },
          "metadata": {},
          "execution_count": 23
        }
      ]
    },
    {
      "cell_type": "markdown",
      "source": [],
      "metadata": {
        "id": "SAW8DnnK9kCL"
      }
    },
    {
      "cell_type": "code",
      "source": [
        "iqr = q3-q1\n",
        "iqr"
      ],
      "metadata": {
        "id": "lAwZHIbfWMmH",
        "colab": {
          "base_uri": "https://localhost:8080/"
        },
        "outputId": "77d8d853-9f35-470f-abd4-27cb41c5888e"
      },
      "execution_count": 24,
      "outputs": [
        {
          "output_type": "execute_result",
          "data": {
            "text/plain": [
              "Murder and nonnegligent manslaughter\n",
              "0.0     2.0\n",
              "1.0    24.0\n",
              "2.0     0.0\n",
              "3.0     0.0\n",
              "Name: Violent crime, dtype: float64"
            ]
          },
          "metadata": {},
          "execution_count": 24
        }
      ]
    },
    {
      "cell_type": "markdown",
      "source": [
        "Какие выводы можно сделать исходя из полученных статистических данных?"
      ],
      "metadata": {
        "id": "vm0-5sY4WX2I"
      }
    },
    {
      "cell_type": "markdown",
      "source": [
        "**Ответ здесь**\n",
        "\n",
        "```\n",
        "Наблюдается сильная вариативность числа насильственных преступлений в зависимости от уровня убийств. Величина интерквартильного размаха для числа насильственных преступлений также разнится среди разных уровней убийств. Это указывает на различия в распределении данных для разных категорий уровней убийств.\n",
        "Уровень убийств может оказывать влияние на количество насильственных преступлений, и необходимо более подробно исследовать факторы, которые могут влиять на эту связь.\n",
        "```\n"
      ],
      "metadata": {
        "id": "OnO1hVGyWe8D"
      }
    },
    {
      "cell_type": "markdown",
      "source": [
        "##Основы визуализации"
      ],
      "metadata": {
        "id": "zDISZbQVWk6m"
      }
    },
    {
      "cell_type": "markdown",
      "source": [
        " Постройте гистограмму переменной (X) относительно категориального признака (Y) из своего датасета."
      ],
      "metadata": {
        "id": "aU8cakZvZBuj"
      }
    },
    {
      "cell_type": "code",
      "source": [
        "import matplotlib.pyplot as plt\n",
        "sns.countplot(x='Murder and nonnegligent manslaughter', hue='Violent crime', data=df)"
      ],
      "metadata": {
        "id": "9-KTIzdfZLmP",
        "colab": {
          "base_uri": "https://localhost:8080/",
          "height": 674
        },
        "outputId": "43e7d1c4-6e3b-4939-c6c0-0730ef20eee4"
      },
      "execution_count": 25,
      "outputs": [
        {
          "output_type": "execute_result",
          "data": {
            "text/plain": [
              "<Axes: xlabel='Murder and nonnegligent manslaughter', ylabel='count'>"
            ]
          },
          "metadata": {},
          "execution_count": 25
        },
        {
          "output_type": "display_data",
          "data": {
            "text/plain": [
              "<Figure size 640x480 with 1 Axes>"
            ],
            "image/png": "[encoded data removed]"
          },
          "metadata": {}
        }
      ]
    },
    {
      "cell_type": "markdown",
      "source": [
        "Постройте boxplot любого признака из своего датасета.\n",
        "\n",
        "1) boxplot числовой переменной;\n",
        "\n",
        "2) boxplot числовой переменной относительно категориальный переменной;\n",
        "\n",
        "*p.s. Если у вас только один числовой признак, преобразуйте категориальный при помощи LabelEncoder (https://scikit-learn.org/stable/modules/generated/sklearn.preprocessing.LabelEncoder.html)*"
      ],
      "metadata": {
        "id": "zPsEO4m1ZWDy"
      }
    },
    {
      "cell_type": "code",
      "source": [
        "plt.boxplot(Y)\n",
        "plt.show()"
      ],
      "metadata": {
        "id": "ccJLh1r-Zdne",
        "colab": {
          "base_uri": "https://localhost:8080/",
          "height": 430
        },
        "outputId": "d0edf9a0-96af-4ccb-f567-c7636d72499f"
      },
      "execution_count": 26,
      "outputs": [
        {
          "output_type": "display_data",
          "data": {
            "text/plain": [
              "<Figure size 640x480 with 1 Axes>"
            ],
            "image/png": "[encoded data removed]"
          },
          "metadata": {}
        }
      ]
    },
    {
      "cell_type": "code",
      "source": [
        "sns.boxplot(y=\"Murder and nonnegligent manslaughter\",x='Violent crime',data=df)"
      ],
      "metadata": {
        "id": "9ZRV3jjlq9NN",
        "colab": {
          "base_uri": "https://localhost:8080/",
          "height": 467
        },
        "outputId": "3455aace-89f3-4904-9a10-f9316221124f"
      },
      "execution_count": 27,
      "outputs": [
        {
          "output_type": "execute_result",
          "data": {
            "text/plain": [
              "<Axes: xlabel='Violent crime', ylabel='Murder and nonnegligent manslaughter'>"
            ]
          },
          "metadata": {},
          "execution_count": 27
        },
        {
          "output_type": "display_data",
          "data": {
            "text/plain": [
              "<Figure size 640x480 with 1 Axes>"
            ],
            "image/png": "[encoded data removed]"
          },
          "metadata": {}
        }
      ]
    },
    {
      "cell_type": "markdown",
      "source": [
        "Постройте диаграмму рассеивания для числовых признаков вашего датасета.\n",
        "\n",
        "*p.s. Если у вас только один числовой признак, преобразуйте категориальный при помощи LabelEncoder (https://scikit-learn.org/stable/modules/generated/sklearn.preprocessing.LabelEncoder.html)*"
      ],
      "metadata": {
        "id": "mj8cdITDZh53"
      }
    },
    {
      "cell_type": "code",
      "source": [
        "plt.scatter(x=df[\"Robbery\"],y=df[\"Burglary\"])\n",
        "plt.xlabel(\"Robbery\")\n",
        "plt.ylabel(\"Burglary\")\n",
        "plt.show()"
      ],
      "metadata": {
        "id": "V2-ZoNUcZ_2l",
        "colab": {
          "base_uri": "https://localhost:8080/",
          "height": 449
        },
        "outputId": "ad382d46-88d2-499c-a4c1-5af2081d5381"
      },
      "execution_count": 28,
      "outputs": [
        {
          "output_type": "display_data",
          "data": {
            "text/plain": [
              "<Figure size 640x480 with 1 Axes>"
            ],
            "image/png": "[encoded data removed]"
          },
          "metadata": {}
        }
      ]
    },
    {
      "cell_type": "markdown",
      "source": [
        "Постройте матрицу корреляции для двух числовых признаков вашего датасета."
      ],
      "metadata": {
        "id": "S-jG4a5SaFXS"
      }
    },
    {
      "cell_type": "code",
      "source": [
        "import numpy as np\n",
        "import pandas as pd\n",
        "import seaborn as sns\n",
        "import matplotlib.pyplot as plt\n",
        "\n",
        "# Вычисление корреляционной матрицы\n",
        "corr_matrix = df.corr()\n",
        "\n",
        "# Визуализация корреляции\n",
        "plt.figure(figsize=(8, 6))\n",
        "sns.heatmap(corr_matrix, annot=True)"
      ],
      "metadata": {
        "id": "u_lOnPtjnfbq",
        "colab": {
          "base_uri": "https://localhost:8080/",
          "height": 760
        },
        "outputId": "ff5cbce3-e01f-4516-a8eb-81c791634128"
      },
      "execution_count": 30,
      "outputs": [
        {
          "output_type": "stream",
          "name": "stderr",
          "text": [
            "<ipython-input-30-1e247ef420af>:7: FutureWarning: The default value of numeric_only in DataFrame.corr is deprecated. In a future version, it will default to False. Select only valid columns or specify the value of numeric_only to silence this warning.\n",
            "  corr_matrix = df.corr()\n"
          ]
        },
        {
          "output_type": "execute_result",
          "data": {
            "text/plain": [
              "<Axes: >"
            ]
          },
          "metadata": {},
          "execution_count": 30
        },
        {
          "output_type": "display_data",
          "data": {
            "text/plain": [
              "<Figure size 800x600 with 2 Axes>"
            ],
            "image/png": "[encoded data removed]"
          },
          "metadata": {}
        }
      ]
    },
    {
      "cell_type": "code",
      "source": [
        "grouped_data = df[[\"Robbery\",\"Burglary\"]]\n",
        "\n",
        "corr_matrix = grouped_data.corr()\n",
        "\n",
        "sns.heatmap(corr_matrix, annot=True)"
      ],
      "metadata": {
        "id": "p04Ifq_ZaOHb",
        "colab": {
          "base_uri": "https://localhost:8080/",
          "height": 453
        },
        "outputId": "b3ec1757-e8eb-45c2-de16-3c08b76ce798"
      },
      "execution_count": 31,
      "outputs": [
        {
          "output_type": "execute_result",
          "data": {
            "text/plain": [
              "<Axes: >"
            ]
          },
          "metadata": {},
          "execution_count": 31
        },
        {
          "output_type": "display_data",
          "data": {
            "text/plain": [
              "<Figure size 640x480 with 2 Axes>"
            ],
            "image/png": "[encoded data removed]"
          },
          "metadata": {}
        }
      ]
    },
    {
      "cell_type": "markdown",
      "source": [
        "Какие выводы можно сделать на основе графиков и матрицы корреляции?"
      ],
      "metadata": {
        "id": "2MVHWXICaoJ4"
      }
    },
    {
      "cell_type": "markdown",
      "source": [
        "**Ответ здесь**"
      ],
      "metadata": {
        "id": "HFAFaiNzatLN"
      }
    },
    {
      "cell_type": "markdown",
      "source": [
        "##Задание для гениев*"
      ],
      "metadata": {
        "id": "K5HCSPTPbwfJ"
      }
    },
    {
      "cell_type": "markdown",
      "source": [
        "Реализовать следующие методы поиска выбросов:\n",
        "1. На основе среднего и отклонения\n",
        "2. Критерий Шовене\n",
        "3. С помощью квартилей\n",
        "4. Поиск выбросов по двум переменным\n",
        "\n",
        "[Посмотреть](http://course.omgtu.ru/wp-content/uploads/2021/04/3_%D0%92%D1%8B%D0%B1%D1%80%D0%BE%D1%81%D1%8B.pdf)\n",
        "\n",
        "P.S. в качестве возвразаемого значения методов может быть:\n",
        "1. очищенный датафрейм\n",
        "2. индексы выбросов ```df.series.index```"
      ],
      "metadata": {
        "id": "pil5bgt5b98A"
      }
    },
    {
      "cell_type": "code",
      "source": [
        "column_name = 'Robbery'\n",
        "\n",
        "mean = df[column_name].mean()\n",
        "std_dev = df[column_name].std()\n",
        "\n",
        "threshold = 2\n",
        "\n",
        "outliers = df[(df[column_name] - mean).abs() > threshold * std_dev]\n",
        "\n",
        "print(outliers)"
      ],
      "metadata": {
        "id": "IXM6eoIvdCBs",
        "colab": {
          "base_uri": "https://localhost:8080/"
        },
        "outputId": "7a5a4a49-3a4a-4498-e238-0066070dc032"
      },
      "execution_count": 43,
      "outputs": [
        {
          "output_type": "stream",
          "name": "stdout",
          "text": [
            "    State/Tribal/Other                                      Agency  \\\n",
            "106     Other Agencies  Los Angeles Transportation Services Bureau   \n",
            "110     Other Agencies        San Francisco Bay Area Rapid Transit   \n",
            "\n",
            "        Unit/Office  Violent crime  Murder and nonnegligent manslaughter  \\\n",
            "106             NaN          803.0                                   3.0   \n",
            "110  Alameda County          135.0                                   1.0   \n",
            "\n",
            "     Rape (revised definition)  Rape (legacy definition)  Robbery  \\\n",
            "106                        8.0                       NaN    387.0   \n",
            "110                        1.0                       NaN     95.0   \n",
            "\n",
            "     Aggravated assault Property crime  Burglary Larceny-theft  \\\n",
            "106               405.0          1,088      11.0           939   \n",
            "110                38.0          1,648       3.0         1,294   \n",
            "\n",
            "    Motor vehicle theft  Arson  \n",
            "106                 138    6.0  \n",
            "110                 351    2.0  \n"
          ]
        }
      ]
    },
    {
      "cell_type": "code",
      "source": [
        "from scipy import stats\n",
        "column_name = 'Robbery'\n",
        "\n",
        "z_scores = np.abs(stats.zscore(df[column_name]))\n",
        "threshold = 3\n",
        "\n",
        "outliers = df[z_scores > threshold]\n",
        "\n",
        "print(outliers)"
      ],
      "metadata": {
        "colab": {
          "base_uri": "https://localhost:8080/"
        },
        "id": "OsXA_9zjUszO",
        "outputId": "fd7ce4fc-74c1-427e-9097-dcdec03fc93a"
      },
      "execution_count": 41,
      "outputs": [
        {
          "output_type": "stream",
          "name": "stdout",
          "text": [
            "Empty DataFrame\n",
            "Columns: [State/Tribal/Other, Agency, Unit/Office, Violent crime, Murder and nonnegligent manslaughter, Rape (revised definition), Rape (legacy definition), Robbery, Aggravated assault, Property crime, Burglary, Larceny-theft, Motor vehicle theft, Arson]\n",
            "Index: []\n"
          ]
        }
      ]
    },
    {
      "cell_type": "code",
      "source": [
        "column_name = 'Robbery'\n",
        "\n",
        "# Вычислите квартили\n",
        "Q1 = df[column_name].quantile(0.25)\n",
        "Q3 = df[column_name].quantile(0.75)\n",
        "\n",
        "# Вычислите межквартильный диапазон (IQR)\n",
        "IQR = Q3 - Q1\n",
        "\n",
        "# Определите границы для поиска выбросов\n",
        "lower_bound = Q1 - 1.5 * IQR\n",
        "upper_bound = Q3 + 1.5 * IQR\n",
        "\n",
        "# Найдите выбросы\n",
        "outliers = df[(df[column_name] < lower_bound) | (df[column_name] > upper_bound)]\n",
        "\n",
        "# Выведите выбросы\n",
        "print(outliers)"
      ],
      "metadata": {
        "colab": {
          "base_uri": "https://localhost:8080/"
        },
        "id": "riquSQCiVR0Y",
        "outputId": "ffd7fb6b-2041-4072-ae5a-b16237c5985d"
      },
      "execution_count": 42,
      "outputs": [
        {
          "output_type": "stream",
          "name": "stdout",
          "text": [
            "    State/Tribal/Other                                             Agency  \\\n",
            "3       State Agencies                 Department of Parks and Recreation   \n",
            "50      State Agencies                                     Highway Patrol   \n",
            "64      State Agencies                                     Highway Patrol   \n",
            "67      State Agencies                                     Highway Patrol   \n",
            "76      State Agencies                                     Highway Patrol   \n",
            "95     Tribal Agencies                                    La Jolla Tribal   \n",
            "97     Tribal Agencies                                      Sycuan Tribal   \n",
            "98     Tribal Agencies                           Table Mountain Rancheria   \n",
            "99     Tribal Agencies                                  Tule River Tribal   \n",
            "100    Tribal Agencies                                       Yurok Tribal   \n",
            "101     Other Agencies                        East Bay Municipal Utility4   \n",
            "102     Other Agencies                            East Bay Regional Parks   \n",
            "103     Other Agencies                            East Bay Regional Parks   \n",
            "104     Other Agencies                    Fontana Unified School District   \n",
            "105     Other Agencies  Los Angeles County Metropolitan Transportation...   \n",
            "106     Other Agencies         Los Angeles Transportation Services Bureau   \n",
            "108     Other Agencies                          Port of San Diego Harbor4   \n",
            "109     Other Agencies             San Bernardino Unified School District   \n",
            "110     Other Agencies               San Francisco Bay Area Rapid Transit   \n",
            "111     Other Agencies               San Francisco Bay Area Rapid Transit   \n",
            "112     Other Agencies               San Francisco Bay Area Rapid Transit   \n",
            "113     Other Agencies               San Francisco Bay Area Rapid Transit   \n",
            "114     Other Agencies                       Santa Clara Transit District   \n",
            "116     Other Agencies                   Stockton Unified School District   \n",
            "117     Other Agencies                Twin Rivers Unified School District   \n",
            "\n",
            "                Unit/Office  Violent crime  \\\n",
            "3                   Angeles            2.0   \n",
            "50      Los Angeles County4           48.0   \n",
            "64        Riverside County4           19.0   \n",
            "67   San Bernardino County4            6.0   \n",
            "76           Shasta County4            1.0   \n",
            "95                      NaN            5.0   \n",
            "97                      NaN           10.0   \n",
            "98                      NaN            3.0   \n",
            "99                      NaN           12.0   \n",
            "100                     NaN            9.0   \n",
            "101                     NaN            1.0   \n",
            "102         Alameda County4            9.0   \n",
            "103     Contra Costa County           10.0   \n",
            "104                     NaN           24.0   \n",
            "105                     NaN            5.0   \n",
            "106                     NaN          803.0   \n",
            "108                     NaN           87.0   \n",
            "109                     NaN           69.0   \n",
            "110          Alameda County          135.0   \n",
            "111     Contra Costa County           49.0   \n",
            "112    San Francisco County           38.0   \n",
            "113        San Mateo County           12.0   \n",
            "114                     NaN           39.0   \n",
            "116                     NaN           15.0   \n",
            "117                     NaN           24.0   \n",
            "\n",
            "     Murder and nonnegligent manslaughter  Rape (revised definition)  \\\n",
            "3                                     0.0                        0.0   \n",
            "50                                    0.0                        0.0   \n",
            "64                                    0.0                        1.0   \n",
            "67                                    0.0                        0.0   \n",
            "76                                    0.0                        0.0   \n",
            "95                                    0.0                        0.0   \n",
            "97                                    0.0                        0.0   \n",
            "98                                    0.0                        0.0   \n",
            "99                                    0.0                        0.0   \n",
            "100                                   0.0                        1.0   \n",
            "101                                   0.0                        0.0   \n",
            "102                                   2.0                        3.0   \n",
            "103                                   0.0                        1.0   \n",
            "104                                   0.0                        0.0   \n",
            "105                                   0.0                        0.0   \n",
            "106                                   3.0                        8.0   \n",
            "108                                   1.0                        2.0   \n",
            "109                                   0.0                        3.0   \n",
            "110                                   1.0                        1.0   \n",
            "111                                   0.0                        2.0   \n",
            "112                                   0.0                        0.0   \n",
            "113                                   0.0                        1.0   \n",
            "114                                   0.0                        1.0   \n",
            "116                                   0.0                        0.0   \n",
            "117                                   0.0                        1.0   \n",
            "\n",
            "     Rape (legacy definition)  Robbery  Aggravated assault Property crime  \\\n",
            "3                         NaN      1.0                 1.0             26   \n",
            "50                        NaN      5.0                43.0            797   \n",
            "64                        NaN      1.0                17.0            103   \n",
            "67                        NaN      2.0                 4.0             77   \n",
            "76                        NaN      1.0                 0.0            239   \n",
            "95                        NaN      4.0                 1.0              8   \n",
            "97                        NaN      2.0                 8.0             45   \n",
            "98                        NaN      2.0                 1.0             40   \n",
            "99                        NaN      2.0                10.0             23   \n",
            "100                       NaN      6.0                 2.0             26   \n",
            "101                       NaN      1.0                 0.0             50   \n",
            "102                       NaN      2.0                 2.0            195   \n",
            "103                       NaN      6.0                 3.0            142   \n",
            "104                       NaN      8.0                16.0            101   \n",
            "105                       NaN      1.0                 4.0             44   \n",
            "106                       NaN    387.0               405.0          1,088   \n",
            "108                       NaN     10.0                74.0            569   \n",
            "109                       NaN     60.0                 6.0            362   \n",
            "110                       NaN     95.0                38.0          1,648   \n",
            "111                       NaN     37.0                10.0            886   \n",
            "112                       NaN     25.0                13.0            207   \n",
            "113                       NaN      2.0                 9.0            217   \n",
            "114                       NaN     24.0                14.0            107   \n",
            "116                       NaN      5.0                10.0            269   \n",
            "117                       NaN      6.0                17.0            148   \n",
            "\n",
            "     Burglary Larceny-theft Motor vehicle theft  Arson  \n",
            "3         8.0            18                   0    0.0  \n",
            "50        4.0            64                 729    0.0  \n",
            "64        3.0            26                  74    0.0  \n",
            "67        8.0            21                  48    0.0  \n",
            "76        0.0            34                 205    0.0  \n",
            "95        2.0             6                   0    0.0  \n",
            "97        7.0            19                  19    NaN  \n",
            "98        2.0            37                   1    0.0  \n",
            "99        9.0             9                   5    0.0  \n",
            "100       9.0            13                   4    NaN  \n",
            "101       1.0            49                   0    0.0  \n",
            "102       0.0           188                   7    5.0  \n",
            "103       0.0           138                   4    1.0  \n",
            "104      32.0            64                   5    2.0  \n",
            "105       2.0            42                   0    0.0  \n",
            "106      11.0           939                 138    6.0  \n",
            "108      53.0           513                   3    2.0  \n",
            "109     134.0           201                  27    3.0  \n",
            "110       3.0         1,294                 351    2.0  \n",
            "111       0.0           641                 245    7.0  \n",
            "112       1.0           204                   2    0.0  \n",
            "113       0.0           170                  47    0.0  \n",
            "114       2.0            78                  27    0.0  \n",
            "116     101.0           164                   4    8.0  \n",
            "117      74.0            66                   8    0.0  \n"
          ]
        }
      ]
    },
    {
      "cell_type": "markdown",
      "source": [
        "### Пример реализации одного метода"
      ],
      "metadata": {
        "id": "dRQRyxdgD_sk"
      }
    },
    {
      "cell_type": "code",
      "source": [
        "from statistics import median, mean\n",
        "\n",
        "class Outline:\n",
        "  def __init__(self, df):\n",
        "    self.df = df\n",
        "\n",
        "  def delete_outline_by_mean(self, column_name):\n",
        "    mean_data = mean(self.df[column_name])\n",
        "    maximum = mean_data * 2\n",
        "    result = []\n",
        "\n",
        "    for item in self.df[column_name]:\n",
        "      if abs(item - mean_data) < maximum:\n",
        "        result.append(item)\n",
        "\n",
        "    return result\n",
        "\n"
      ],
      "metadata": {
        "id": "lJEOQcx0vavH"
      },
      "execution_count": 34,
      "outputs": []
    },
    {
      "cell_type": "code",
      "source": [
        "data = pd.DataFrame(\n",
        "    data = {\n",
        "        \"col1\": [1, 2, 3, 4, 5, 1000],\n",
        "        \"col2\": [1, 2, 3, 2, 1, 4]\n",
        "    }\n",
        ")\n",
        "\n",
        "so = Outline(data)\n",
        "so.delete_outline_by_mean(\"col1\")"
      ],
      "metadata": {
        "colab": {
          "base_uri": "https://localhost:8080/"
        },
        "id": "1EViTEon8Rkj",
        "outputId": "1188792b-ff1b-4932-f3f3-61046e420948"
      },
      "execution_count": 35,
      "outputs": [
        {
          "output_type": "execute_result",
          "data": {
            "text/plain": [
              "[1, 2, 3, 4, 5]"
            ]
          },
          "metadata": {},
          "execution_count": 35
        }
      ]
    }
  ]
}